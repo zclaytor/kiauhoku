{
 "cells": [
  {
   "cell_type": "code",
   "execution_count": null,
   "id": "0bbc6981",
   "metadata": {},
   "outputs": [],
   "source": [
    "import numpy as np\n",
    "import pandas as pd\n",
    "import matplotlib.pyplot as plt\n",
    "import kiauhoku as kh   \n",
    "    \n",
    "yrec_full = kh.load_full_grid(\"yrec2\")\n",
    "yrec = kh.load_eep_grid(\"yrec2\")"
   ]
  },
  {
   "cell_type": "code",
   "execution_count": null,
   "id": "c3acc40d",
   "metadata": {},
   "outputs": [],
   "source": [
    "%matplotlib inline\n",
    "\n",
    "lengths = yrec.get_eep_track_lengths()\n",
    "lengths.columns = [\"length\"]\n",
    "lvals = lengths.values.reshape(-1, 4).T\n",
    "\n",
    "xticks = np.arange(0.6, 2.1, 0.1)\n",
    "yticks = np.array([-1, -0.5, 0, 0.5])\n",
    "kw = {\"color\": \"k\"}\n",
    "\n",
    "plt.imshow(lvals, extent=(0.55, 2.05, -1.25, 0.75), origin=\"lower\", aspect=\"auto\")\n",
    "plt.xticks(xticks)\n",
    "plt.yticks(yticks)\n",
    "\n",
    "plt.vlines(xticks[1:]-0.05, ymin=-1.25, ymax=0.75, **kw)\n",
    "plt.hlines(yticks[1:]-0.25, xmin=0.55, xmax=2.05, **kw)\n",
    "\n",
    "plt.xlabel(\"initial mass\")\n",
    "plt.ylabel(\"initial metallicity\")\n",
    "\n",
    "plt.colorbar(ticks=list(set(lvals.flatten())), label=\"Number of EEPs\")"
   ]
  },
  {
   "cell_type": "code",
   "execution_count": null,
   "id": "69d6fb5f",
   "metadata": {},
   "outputs": [],
   "source": [
    "def get_last_values(grid, label):\n",
    "    idx = grid.index.droplevel(-1).drop_duplicates()\n",
    "    values = [grid.loc[i, label].iloc[-1] for i in idx]\n",
    "    values = pd.DataFrame(values, index=idx, columns=[label])\n",
    "    return values\n",
    "\n",
    "\n",
    "%matplotlib inline\n",
    "\n",
    "label = \"logg\"\n",
    "values = get_last_values(yrec_full, label)\n",
    "lvals = values.values.reshape(-1, 4).T\n",
    "\n",
    "xticks = np.arange(0.6, 2.1, 0.1)\n",
    "yticks = np.array([-1, -0.5, 0, 0.5])\n",
    "kw = {\"color\": \"k\"}\n",
    "\n",
    "plt.imshow(lvals, extent=(0.55, 2.05, -1.25, 0.75), origin=\"lower\", aspect=\"auto\")\n",
    "plt.xticks(xticks)\n",
    "plt.yticks(yticks)\n",
    "\n",
    "plt.vlines(xticks[1:]-0.05, ymin=-1.25, ymax=0.75, **kw)\n",
    "plt.hlines(yticks[1:]-0.25, xmin=0.55, xmax=2.05, **kw)\n",
    "\n",
    "plt.xlabel(\"initial mass\")\n",
    "plt.ylabel(\"initial metallicity\")\n",
    "\n",
    "plt.colorbar(label=f\"final {label}\")"
   ]
  }
 ],
 "metadata": {
  "kernelspec": {
   "display_name": "gyro",
   "language": "python",
   "name": "gyro"
  },
  "language_info": {
   "codemirror_mode": {
    "name": "ipython",
    "version": 3
   },
   "file_extension": ".py",
   "mimetype": "text/x-python",
   "name": "python",
   "nbconvert_exporter": "python",
   "pygments_lexer": "ipython3"
  }
 },
 "nbformat": 4,
 "nbformat_minor": 5
}
