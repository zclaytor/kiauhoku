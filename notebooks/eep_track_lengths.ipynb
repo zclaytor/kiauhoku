{
 "cells": [
  {
   "cell_type": "markdown",
   "id": "3554ac78",
   "metadata": {},
   "source": [
    "# Track Lengths\n",
    "\n",
    "[![Open In Colab](https://colab.research.google.com/assets/colab-badge.svg)](https://colab.research.google.com/github/zclaytor/kiauhoku/blob/dev/notebooks/eep_track_lengths.ipynb)\n",
    "\n",
    "Here we look at the number of EEPs in each of the available model tracks. This is useful for debugging, such as when a track terminates before you expect it to, or catching instances when the EEP identification is wrong.\n",
    "\n",
    "We'll also look at an example visualizing properties of the full tracks."
   ]
  },
  {
   "cell_type": "code",
   "execution_count": null,
   "id": "aa600d46",
   "metadata": {},
   "outputs": [],
   "source": [
    "# first install kiauhoku\n",
    "%pip install git+https://github.com/zclaytor/kiauhoku@dev"
   ]
  },
  {
   "cell_type": "code",
   "execution_count": null,
   "id": "0bbc6981",
   "metadata": {},
   "outputs": [],
   "source": [
    "import numpy as np\n",
    "import pandas as pd\n",
    "import matplotlib.pyplot as plt\n",
    "import kiauhoku as kh"
   ]
  },
  {
   "cell_type": "markdown",
   "id": "3d9c50a9",
   "metadata": {},
   "source": [
    "## YREC"
   ]
  },
  {
   "cell_type": "markdown",
   "id": "426e6c81",
   "metadata": {},
   "source": [
    "### EEP tracks"
   ]
  },
  {
   "cell_type": "code",
   "execution_count": null,
   "id": "a9f41303",
   "metadata": {},
   "outputs": [],
   "source": [
    "# load tracks\n",
    "yrec = kh.load_eep_grid(\"yrec\")"
   ]
  },
  {
   "cell_type": "code",
   "execution_count": null,
   "id": "c3acc40d",
   "metadata": {},
   "outputs": [],
   "source": [
    "# make plot\n",
    "im, fig, ax = yrec.plot_eep_track_lengths()"
   ]
  },
  {
   "cell_type": "markdown",
   "id": "fccf70fb",
   "metadata": {},
   "source": [
    "According to this graph, all but one of the YREC tracks make it to the tip of the red giant branch (TRGB). The one that terminates early has a mass of 0.7 Msun and metallicity of +0.5 dex. We can plot this track with its neighbors overtop of the full tracks to see what happens."
   ]
  },
  {
   "cell_type": "code",
   "execution_count": null,
   "id": "3b681892",
   "metadata": {},
   "outputs": [],
   "source": [
    "# load full tracks\n",
    "yrec_full = kh.load_full_grid(\"yrec\")\n",
    "\n",
    "%matplotlib inline\n",
    "met = 0.5\n",
    "masses = [0.6, 0.7, 0.8, 0.9]\n",
    "\n",
    "for i, m in enumerate(masses):\n",
    "    color = f\"C{i}\"\n",
    "    plt.plot(\"Log Teff(K)\", \"L/Lsun\", data=yrec_full.loc[m, met], label=f\"M/Msun = {m:3.1f}\", color=color)\n",
    "    plt.plot(\"Log Teff(K)\", \"L/Lsun\", \"k:\", data=yrec.loc[m, met], label=\"_\")\n",
    "\n",
    "plt.gca().invert_xaxis()\n",
    "plt.xlabel(\"Log Teff/K\")\n",
    "plt.ylabel(\"Log L/Lsun\")\n",
    "plt.legend();"
   ]
  },
  {
   "cell_type": "markdown",
   "id": "7e51b5fb",
   "metadata": {},
   "source": [
    "The full track (solid line) makes it to the RGB bump, but not to the tip like its neighbors. As a result, the EEP track (black dotted line) terminates at the last available primary EEP, the terminal-age main sequence (TAMS)."
   ]
  },
  {
   "cell_type": "markdown",
   "id": "54f03516",
   "metadata": {},
   "source": [
    "### Full tracks\n",
    "\n",
    "Since we've loaded the full tracks anyway, let's make a similar grid-like plot with the tracks' final logg values."
   ]
  },
  {
   "cell_type": "code",
   "execution_count": null,
   "id": "69d6fb5f",
   "metadata": {},
   "outputs": [],
   "source": [
    "def get_last_values(grid, label):\n",
    "    idx = grid.index.droplevel(-1).drop_duplicates()\n",
    "    values = [grid.loc[i, label].iloc[-1] for i in idx]\n",
    "    values = pd.DataFrame(values, index=idx, columns=[label])\n",
    "    \n",
    "    return values\n",
    "\n",
    "\n",
    "%matplotlib inline\n",
    "label = \"logg\"\n",
    "values = get_last_values(yrec_full, label)\n",
    "xvals = yrec.index.levels[0]\n",
    "yvals = yrec.index.levels[1]\n",
    "lvals = values.values.reshape(len(xvals), len(yvals)).T\n",
    "\n",
    "\n",
    "plt.pcolormesh(xvals, yvals, lvals, edgecolors=\"k\")\n",
    "\n",
    "plt.xlabel(\"initial_mass\")\n",
    "plt.ylabel(\"initial_met\")\n",
    "\n",
    "plt.colorbar(label=f\"final {label}\");"
   ]
  },
  {
   "cell_type": "markdown",
   "id": "bef9d2fb",
   "metadata": {},
   "source": [
    "That pesky 0.7-Msun track shows up in this view as well, terminating at a much higher logg than its neighbors.\n",
    "\n",
    "These kinds of plots help us identify when things are going wrong with our tracks!"
   ]
  },
  {
   "cell_type": "markdown",
   "id": "49e61a32",
   "metadata": {},
   "source": [
    "## Garstec"
   ]
  },
  {
   "cell_type": "markdown",
   "id": "2bbc976c",
   "metadata": {},
   "source": [
    "### EEP"
   ]
  },
  {
   "cell_type": "code",
   "execution_count": null,
   "id": "baf1ef21",
   "metadata": {},
   "outputs": [],
   "source": [
    "# load tracks\n",
    "gars = kh.load_eep_grid(\"garstec\")"
   ]
  },
  {
   "cell_type": "code",
   "execution_count": null,
   "id": "770730cd",
   "metadata": {},
   "outputs": [],
   "source": [
    "# make plot\n",
    "im, fig, ax = gars.plot_eep_track_lengths()"
   ]
  }
 ],
 "metadata": {
  "kernelspec": {
   "display_name": "gyro",
   "language": "python",
   "name": "python3"
  },
  "language_info": {
   "codemirror_mode": {
    "name": "ipython",
    "version": 3
   },
   "file_extension": ".py",
   "mimetype": "text/x-python",
   "name": "python",
   "nbconvert_exporter": "python",
   "pygments_lexer": "ipython3"
  }
 },
 "nbformat": 4,
 "nbformat_minor": 5
}
