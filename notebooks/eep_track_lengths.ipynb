{
 "cells": [
  {
   "cell_type": "markdown",
   "id": "3554ac78",
   "metadata": {},
   "source": [
    "# Track Lengths\n",
    "\n",
    "[![Open In Colab](https://colab.research.google.com/assets/colab-badge.svg)](https://colab.research.google.com/github/zclaytor/kiauhoku/blob/dev/notebooks/eep_track_lengths.ipynb)\n",
    "\n",
    "Here we look at the number of EEPs in each of the available model tracks. This is useful for debugging, such as when a track terminates before you expect it to, or catching instances when the EEP identification is wrong.\n",
    "\n",
    "We'll also look at an example visualizing properties of the full tracks."
   ]
  },
  {
   "cell_type": "code",
   "execution_count": null,
   "id": "aa600d46",
   "metadata": {},
   "outputs": [],
   "source": [
    "# first install kiauhoku\n",
    "!pip install git+https://github.com/zclaytor/kiauhoku@dev"
   ]
  },
  {
   "cell_type": "code",
   "execution_count": null,
   "id": "0bbc6981",
   "metadata": {},
   "outputs": [],
   "source": [
    "import numpy as np\n",
    "import pandas as pd\n",
    "import matplotlib.pyplot as plt\n",
    "import kiauhoku as kh"
   ]
  },
  {
   "cell_type": "markdown",
   "id": "3d9c50a9",
   "metadata": {},
   "source": [
    "## YREC"
   ]
  },
  {
   "cell_type": "markdown",
   "id": "426e6c81",
   "metadata": {},
   "source": [
    "### EEP tracks"
   ]
  },
  {
   "cell_type": "code",
   "execution_count": null,
   "id": "a9f41303",
   "metadata": {},
   "outputs": [],
   "source": [
    "# load track\n",
    "yrec = kh.load_eep_grid(\"yrec\")\n",
    "\n",
    "# measure lengths\n",
    "lengths = yrec.get_eep_track_lengths()\n",
    "lengths.columns = [\"length\"]\n",
    "lvals = lengths.values.reshape(-1, 4).T"
   ]
  },
  {
   "cell_type": "code",
   "execution_count": null,
   "id": "c3acc40d",
   "metadata": {},
   "outputs": [],
   "source": [
    "# evaluate tick and grid line positions\n",
    "def get_boundaries(grid, level):\n",
    "    return grid.index.get_level_values(level).drop_duplicates()\n",
    "\n",
    "xlabel = \"initial_mass\"\n",
    "ylabel = \"initial_met\"\n",
    "xticks = get_boundaries(yrec, xlabel)\n",
    "yticks = get_boundaries(yrec, ylabel)\n",
    "delta_x = np.median(np.diff(xticks))\n",
    "delta_y = np.median(np.diff(yticks))\n",
    "xmin = xticks[0] - delta_x/2\n",
    "xmax = xticks[-1] + delta_x/2\n",
    "ymin = yticks[0] - delta_y/2\n",
    "ymax = yticks[-1] + delta_y/2\n",
    "\n",
    "# plot lengths\n",
    "%matplotlib inline\n",
    "\n",
    "kw = {\"color\": \"k\"}\n",
    "\n",
    "plt.imshow(lvals, extent=(xmin, xmax, ymin, ymax), origin=\"lower\", aspect=\"auto\")\n",
    "plt.xticks(xticks)\n",
    "plt.yticks(yticks)\n",
    "\n",
    "plt.vlines(xticks-delta_x/2, ymin=ymin, ymax=ymax, **kw)\n",
    "plt.hlines(yticks-delta_y/2, xmin=xmin, xmax=xmax, **kw)\n",
    "\n",
    "plt.xlabel(xlabel)\n",
    "plt.ylabel(ylabel)\n",
    "\n",
    "plt.colorbar(ticks=list(set(lvals.flatten())), label=\"Number of EEPs\")"
   ]
  },
  {
   "cell_type": "markdown",
   "id": "fccf70fb",
   "metadata": {},
   "source": [
    "According to this graph, all but one of the YREC tracks make it to the tip of the red giant branch (TRGB). The one that terminates early has a mass of 0.7 Msun and metallicity of +0.5 dex. We can plot this track with its neighbors overtop of the full tracks to see what happens."
   ]
  },
  {
   "cell_type": "code",
   "execution_count": null,
   "id": "3b681892",
   "metadata": {},
   "outputs": [],
   "source": [
    "# load full tracks\n",
    "yrec_full = kh.load_full_grid(\"yrec\")\n",
    "\n",
    "%matplotlib inline\n",
    "met = 0.5\n",
    "masses = [0.6, 0.7, 0.8, 0.9]\n",
    "\n",
    "for i, m in enumerate(masses):\n",
    "    color = f\"C{i}\"\n",
    "    plt.plot(\"Log Teff(K)\", \"L/Lsun\", data=yrec_full.loc[m, met], label=f\"M/Msun = {m:3.1f}\", color=color)\n",
    "    plt.plot(\"Log Teff(K)\", \"L/Lsun\", \"k:\", data=yrec.loc[m, met], label=\"_\")\n",
    "\n",
    "plt.gca().invert_xaxis()\n",
    "plt.xlabel(\"Log Teff/K\")\n",
    "plt.ylabel(\"Log L/Lsun\")\n",
    "plt.legend();"
   ]
  },
  {
   "cell_type": "markdown",
   "id": "7e51b5fb",
   "metadata": {},
   "source": [
    "The full track (solid line) makes it to the RGB bump, but not to the tip like its neighbors. As a result, the EEP track (black dotted line) terminates at the last available primary EEP, the terminal-age main sequence (TAMS)."
   ]
  },
  {
   "cell_type": "markdown",
   "id": "54f03516",
   "metadata": {},
   "source": [
    "### Full tracks\n",
    "\n",
    "Since we've loaded the full tracks anyway, let's make a similar grid-like plot with the tracks' final logg values."
   ]
  },
  {
   "cell_type": "code",
   "execution_count": null,
   "id": "69d6fb5f",
   "metadata": {},
   "outputs": [],
   "source": [
    "def get_last_values(grid, label):\n",
    "    idx = grid.index.droplevel(-1).drop_duplicates()\n",
    "    values = [grid.loc[i, label].iloc[-1] for i in idx]\n",
    "    values = pd.DataFrame(values, index=idx, columns=[label])\n",
    "    return values\n",
    "\n",
    "\n",
    "%matplotlib inline\n",
    "label = \"logg\"\n",
    "values = get_last_values(yrec_full, label)\n",
    "lvals = values.values.reshape(-1, 4).T\n",
    "\n",
    "kw = {\"color\": \"k\"}\n",
    "\n",
    "plt.imshow(lvals, extent=(xmin, xmax, ymin, ymax), origin=\"lower\", aspect=\"auto\")\n",
    "plt.xticks(xticks)\n",
    "plt.yticks(yticks)\n",
    "\n",
    "plt.vlines(xticks-delta_x/2, ymin=ymin, ymax=ymax, **kw)\n",
    "plt.hlines(yticks-delta_y/2, xmin=xmin, xmax=xmax, **kw)\n",
    "\n",
    "plt.xlabel(xlabel)\n",
    "plt.ylabel(ylabel)\n",
    "\n",
    "plt.colorbar(label=f\"final {label}\");"
   ]
  },
  {
   "cell_type": "markdown",
   "id": "bef9d2fb",
   "metadata": {},
   "source": [
    "That pesky 0.7-Msun track shows up in this view as well, terminating at a much higher logg than its neighbors.\n",
    "\n",
    "These kinds of plots help us identify when things are going wrong with our tracks!"
   ]
  }
 ],
 "metadata": {
  "kernelspec": {
   "display_name": "gyro",
   "language": "python",
   "name": "python3"
  },
  "language_info": {
   "codemirror_mode": {
    "name": "ipython",
    "version": 3
   },
   "file_extension": ".py",
   "mimetype": "text/x-python",
   "name": "python",
   "nbconvert_exporter": "python",
   "pygments_lexer": "ipython3"
  }
 },
 "nbformat": 4,
 "nbformat_minor": 5
}
