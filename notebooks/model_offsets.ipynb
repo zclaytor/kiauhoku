{
 "cells": [
  {
   "cell_type": "markdown",
   "metadata": {},
   "source": [
    "# **Kīauhōkū Model Offsets**\n",
    "[![Open In Colab](https://colab.research.google.com/assets/colab-badge.svg)](https://colab.research.google.com/github/zclaytor/kiauhoku/blob/master/notebooks/model_offsets.ipynb)\n",
    "## This notebook is a tutorial on estimating the systematic uncertainties associated with various stellar model grids, as illustrated by [Jamie Tayar et al. (2022)](https://ui.adsabs.harvard.edu/abs/2022ApJ...927...31T/abstract).\n",
    "## The notebook is read-only. You can make changes, but they will not save unless you make your own copy. (So don't worry about messing it up for others!)\n",
    "\n",
    "#### **Contact:**\n",
    "- Jamie Tayar (jtayar@ufl.edu) for information regarding the stellar model grids\n",
    "- Zach Claytor (zclaytor@ufl.edu) for information regarding kīauhōkū and detailed workings/upkeep of this notebook\n",
    "\n",
    "#### **Resources:**\n",
    "- kīauhōkū: https://github.com/zclaytor/kiauhoku\n",
    "- models: https://zenodo.org/record/4287717"
   ]
  },
  {
   "cell_type": "markdown",
   "metadata": {},
   "source": [
    "## Install kiauhoku"
   ]
  },
  {
   "cell_type": "code",
   "execution_count": null,
   "metadata": {},
   "outputs": [],
   "source": [
    "!pip install git+https://github.com/zclaytor/kiauhoku@dev"
   ]
  },
  {
   "cell_type": "code",
   "execution_count": null,
   "metadata": {},
   "outputs": [],
   "source": [
    "import numpy as np\n",
    "import pandas as pd\n",
    "import kiauhoku as kh"
   ]
  },
  {
   "cell_type": "markdown",
   "metadata": {},
   "source": [
    "## Download grids"
   ]
  },
  {
   "cell_type": "code",
   "execution_count": null,
   "metadata": {},
   "outputs": [],
   "source": [
    "kh.download(\"yrec\", kind=\"eep\", version=\"2.0.0\")\n",
    "kh.download(\"mist\", kind=\"eep\", version=\"2.0.0\")\n",
    "kh.download(\"garstec\", kind=\"eep\", version=\"2.0.0\")\n",
    "kh.download(\"dartmouth\", kind=\"eep\", version=\"2.0.0\")"
   ]
  },
  {
   "cell_type": "markdown",
   "metadata": {},
   "source": [
    "## Load grids, unify column names, and cast to interpolators"
   ]
  },
  {
   "cell_type": "code",
   "execution_count": null,
   "metadata": {},
   "outputs": [],
   "source": [
    "# use grid points between ZAMS (201) and RGBump (605)\n",
    "qstring = '0.6 <= initial_mass <= 2 and -1.0 <= initial_met <= 0.5 and 201 <= eep <= 605'\n",
    "\n",
    "# Whether to fit evolved metallicity (True) or use the initial metallicity.\n",
    "# False is probably fine if you're not on the giant branch.\n",
    "evolve_met = False\n",
    "\n",
    "# load grid, remove unwanted rows\n",
    "yrec = kh.load_eep_grid(\"yrec\").query(qstring)\n",
    "# set column names to some standard\n",
    "yrec['mass'] = yrec['Mass(Msun)']\n",
    "yrec['teff'] = 10**yrec['Log Teff(K)']\n",
    "yrec['lum'] = 10**yrec['L/Lsun']\n",
    "if evolve_met:\n",
    "    yrec['met'] = np.log10(yrec['Zsurf']/yrec['Xsurf']/0.0253)\n",
    "else:\n",
    "    yrec['met'] = yrec.index.get_level_values('initial_met')\n",
    "yrec['age'] = yrec['Age(Gyr)']\n",
    "# set name for readability of output\n",
    "yrec.set_name('yrec')\n",
    "# cast to interpolator\n",
    "yrec = yrec.to_interpolator()\n",
    "\n",
    "mist = kh.load_eep_grid(\"mist\").query(qstring)\n",
    "mist['mass'] = mist['star_mass']\n",
    "mist['teff'] = 10**mist['log_Teff']\n",
    "mist['lum'] = 10**mist['log_L']\n",
    "if evolve_met:\n",
    "    mist['met'] = mist['log_surf_z'] - np.log10(mist['surface_h1']*0.0173)\n",
    "else:\n",
    "    mist['met'] = mist.index.get_level_values('initial_met')\n",
    "mist['logg'] = mist['log_g']\n",
    "mist['age'] = mist['star_age'] / 1e9\n",
    "mist.set_name('mist')\n",
    "mist = mist.to_interpolator()\n",
    "\n",
    "dart = kh.load_eep_grid(\"dartmouth\").query(qstring)\n",
    "dart['mass'] = dart.index.to_frame()['initial_mass']\n",
    "dart['teff'] = 10**dart['Log T']\n",
    "dart['lum'] = 10**dart['Log L']\n",
    "if evolve_met:\n",
    "    dart['met'] = np.log10(dart['(Z/X)_surf']/0.0229)\n",
    "else:\n",
    "    dart['met'] = dart.index.get_level_values('initial_met')\n",
    "dart['logg'] = dart['Log g']\n",
    "dart['age'] = dart['Age (yrs)'] / 1e9\n",
    "dart.set_name('dart')\n",
    "dart = dart.to_interpolator()\n",
    "\n",
    "gars = kh.load_eep_grid(\"garstec\").query(qstring)\n",
    "gars['mass'] = gars['M/Msun']\n",
    "gars['teff'] = gars['Teff']\n",
    "gars['lum'] = 10**gars['Log L/Lsun']\n",
    "if evolve_met:\n",
    "    gars['met'] = np.log10(gars['Zsurf']/gars['Xsurf']/0.0245)\n",
    "else:\n",
    "    gars['met'] = gars.index.get_level_values('initial_met')\n",
    "gars['age'] = gars['Age(Myr)'] / 1e3\n",
    "gars.set_name('gars')\n",
    "gars = gars.to_interpolator()"
   ]
  },
  {
   "cell_type": "markdown",
   "metadata": {},
   "source": [
    "## Define fitting function\n",
    "##### Iterate through list of grids to fit star"
   ]
  },
  {
   "cell_type": "code",
   "execution_count": null,
   "metadata": {},
   "outputs": [],
   "source": [
    "def fit_all_grids(star, *args, **kwargs):\n",
    "    gridnames = []\n",
    "    models = []\n",
    "    for gname, interp in zip(\n",
    "        ['yrec', 'mist', 'dartmouth', 'garstec'],\n",
    "        [yrec, mist, dart, gars]):\n",
    "        model, fit = interp.gridsearch_fit(star, *args, **kwargs)\n",
    "        if fit.success:\n",
    "            gridnames.append(gname)\n",
    "            models.append(\n",
    "                model[['initial_mass', 'initial_met', 'eep', 'mass', 'teff', 'lum', 'met', 'logg', 'age']]\n",
    "            )\n",
    "    models = pd.concat(models, axis=1)\n",
    "    models.columns = gridnames\n",
    "\n",
    "    return models\n",
    "\n",
    "def compute_statistics(models, exclude=None):\n",
    "    stats = models.copy()\n",
    "    if exclude is not None:\n",
    "        stats = stats.drop(columns=exclude)\n",
    "\n",
    "    mean = stats.mean(axis=1)\n",
    "    stdev = stats.std(axis=1, ddof=1)\n",
    "    max_offset = stats.max(axis=1) - stats.min(axis=1)\n",
    "\n",
    "    stats['mean'] = mean\n",
    "    stats['stdev'] = stdev\n",
    "    stats['max offset'] = max_offset\n",
    "\n",
    "    return stats"
   ]
  },
  {
   "cell_type": "markdown",
   "metadata": {},
   "source": [
    "## Define stellar examples and run!"
   ]
  },
  {
   "cell_type": "markdown",
   "metadata": {},
   "source": [
    "### $\\pi$ Men"
   ]
  },
  {
   "cell_type": "code",
   "execution_count": null,
   "metadata": {},
   "outputs": [],
   "source": [
    "piMen  = {'teff':6037, 'lum':1.444, 'met':0.08}\n",
    "models = fit_all_grids(piMen, scale=(1000, 1, 0.1), tol=1e-6)\n",
    "models"
   ]
  },
  {
   "cell_type": "code",
   "execution_count": null,
   "metadata": {},
   "outputs": [],
   "source": [
    "stats = compute_statistics(models, exclude=None)\n",
    "stats"
   ]
  },
  {
   "cell_type": "markdown",
   "metadata": {},
   "source": [
    "### TOI 197"
   ]
  },
  {
   "cell_type": "code",
   "execution_count": null,
   "metadata": {},
   "outputs": [],
   "source": [
    "toi197 = {'teff':5080, 'lum':5.15, 'met':-0.08}\n",
    "models = fit_all_grids(toi197, scale=(1000, 1, 0.1), tol=1e-6)\n",
    "models"
   ]
  },
  {
   "cell_type": "code",
   "execution_count": null,
   "metadata": {},
   "outputs": [],
   "source": [
    "stats = compute_statistics(models, exclude=None)\n",
    "stats"
   ]
  },
  {
   "cell_type": "markdown",
   "metadata": {},
   "source": [
    "### Sun, using Teff and Luminosity"
   ]
  },
  {
   "cell_type": "code",
   "execution_count": null,
   "metadata": {},
   "outputs": [],
   "source": [
    "sun1 = {'teff':5772, 'lum':1, 'met':0}\n",
    "models = fit_all_grids(sun1, scale=(1000, 1, 0.1), tol=1e-6)\n",
    "models"
   ]
  },
  {
   "cell_type": "code",
   "execution_count": null,
   "metadata": {},
   "outputs": [],
   "source": [
    "stats = compute_statistics(models, exclude=None)\n",
    "stats"
   ]
  },
  {
   "cell_type": "markdown",
   "metadata": {},
   "source": [
    "### Sun, using Teff and logg"
   ]
  },
  {
   "cell_type": "code",
   "execution_count": null,
   "metadata": {},
   "outputs": [],
   "source": [
    "sun2 = {'teff':5772, 'logg':4.44, 'met':0}\n",
    "models = fit_all_grids(sun2, scale=(1000, 1, 0.1), tol=1e-6)\n",
    "models"
   ]
  },
  {
   "cell_type": "code",
   "execution_count": null,
   "metadata": {},
   "outputs": [],
   "source": [
    "stats = compute_statistics(models, exclude=None)\n",
    "stats"
   ]
  },
  {
   "cell_type": "markdown",
   "metadata": {},
   "source": [
    "### Sun, using Mass and Age"
   ]
  },
  {
   "cell_type": "code",
   "execution_count": null,
   "metadata": {},
   "outputs": [],
   "source": [
    "sun3 = {'age': 4.57, 'mass':1, 'met':0}\n",
    "models = fit_all_grids(sun3, scale=(1, 0.1, 0.1), tol=1e-6)\n",
    "models"
   ]
  },
  {
   "cell_type": "code",
   "execution_count": null,
   "metadata": {},
   "outputs": [],
   "source": [
    "stats = compute_statistics(models, exclude=None)\n",
    "stats"
   ]
  }
 ],
 "metadata": {
  "colab": {
   "collapsed_sections": [],
   "name": "kiauhoku_model_offsets",
   "provenance": [],
   "toc_visible": true
  },
  "interpreter": {
   "hash": "bee52bbb3fa6ebef79f63f726392f4afa57d9cef77e71213a3d58d3b20954968"
  },
  "kernelspec": {
   "display_name": "Python 3.8.3 ('gyro')",
   "language": "python",
   "name": "python3"
  },
  "language_info": {
   "codemirror_mode": {
    "name": "ipython",
    "version": 3
   },
   "file_extension": ".py",
   "mimetype": "text/x-python",
   "name": "python",
   "nbconvert_exporter": "python",
   "pygments_lexer": "ipython3"
  }
 },
 "nbformat": 4,
 "nbformat_minor": 0
}
